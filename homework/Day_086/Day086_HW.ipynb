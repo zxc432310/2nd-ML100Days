{
 "cells": [
  {
   "cell_type": "markdown",
   "metadata": {},
   "source": [
    "## Work\n",
    "1. 試比較 save_best_only 與否的差異\n",
    "2. 請僅存入將 save_weights_only 設定為 True, 並嘗試 reset ipynb 並將模型與權重重新建回並預測 x_test"
   ]
  },
  {
   "cell_type": "code",
   "execution_count": 1,
   "metadata": {},
   "outputs": [
    {
     "name": "stderr",
     "output_type": "stream",
     "text": [
      "Using TensorFlow backend.\n"
     ]
    }
   ],
   "source": [
    "import os\n",
    "import keras\n",
    "\n",
    "# Disable GPU\n",
    "os.environ[\"CUDA_VISIBLE_DEVICES\"] = \"\""
   ]
  },
  {
   "cell_type": "code",
   "execution_count": 2,
   "metadata": {},
   "outputs": [],
   "source": [
    "train, test = keras.datasets.cifar10.load_data()"
   ]
  },
  {
   "cell_type": "code",
   "execution_count": 3,
   "metadata": {},
   "outputs": [],
   "source": [
    "## 資料前處理\n",
    "def preproc_x(x, flatten=True):\n",
    "    x = x / 255.\n",
    "    if flatten:\n",
    "        x = x.reshape((len(x), -1))\n",
    "    return x\n",
    "\n",
    "def preproc_y(y, num_classes=10):\n",
    "    if y.shape[-1] == 1:\n",
    "        y = keras.utils.to_categorical(y, num_classes)\n",
    "    return y    "
   ]
  },
  {
   "cell_type": "code",
   "execution_count": 4,
   "metadata": {},
   "outputs": [],
   "source": [
    "x_train, y_train = train\n",
    "x_test, y_test = test\n",
    "\n",
    "# Preproc the inputs\n",
    "x_train = preproc_x(x_train)\n",
    "x_test = preproc_x(x_test)\n",
    "\n",
    "# Preprc the outputs\n",
    "y_train = preproc_y(y_train)\n",
    "y_test = preproc_y(y_test)"
   ]
  },
  {
   "cell_type": "code",
   "execution_count": 5,
   "metadata": {},
   "outputs": [],
   "source": [
    "from keras.layers import BatchNormalization\n",
    "\n",
    "def build_mlp(input_shape, output_units=10, num_neurons=[2048, 1024, 512, 256, 128]):\n",
    "    \"\"\"Code Here\n",
    "    建立你的神經網路\n",
    "    \"\"\"\n",
    "    input_layer = keras.layers.Input(input_shape)\n",
    "    \n",
    "    for i, n_units in enumerate(num_neurons):\n",
    "        if i == 0:\n",
    "            x = BatchNormalization()(input_layer)\n",
    "            x = keras.layers.Dense(units=n_units, \n",
    "                                   activation=\"relu\", \n",
    "                                   name=\"hidden_layer\"+str(i+1))(x)\n",
    "            x = BatchNormalization()(x)\n",
    "        else:\n",
    "            x = keras.layers.Dense(units=n_units, \n",
    "                                   activation=\"relu\", \n",
    "                                   name=\"hidden_layer\"+str(i+1))(x)\n",
    "            x = BatchNormalization()(x)\n",
    "            \n",
    "    out = keras.layers.Dense(units=output_units, activation=\"softmax\", name=\"output\")(x)\n",
    "    \n",
    "    model = keras.models.Model(inputs=[input_layer], outputs=[out])\n",
    "    return model"
   ]
  },
  {
   "cell_type": "code",
   "execution_count": 6,
   "metadata": {},
   "outputs": [],
   "source": [
    "\"\"\"Code Here\n",
    "設定超參數\n",
    "\"\"\"\n",
    "LEARNING_RATE = 1e-3\n",
    "EPOCHS = 50\n",
    "BATCH_SIZE = 2048\n",
    "MOMENTUM = 0.95"
   ]
  },
  {
   "cell_type": "code",
   "execution_count": 7,
   "metadata": {
    "scrolled": true
   },
   "outputs": [
    {
     "name": "stdout",
     "output_type": "stream",
     "text": [
      "WARNING:tensorflow:From C:\\Users\\Tsai\\Anaconda3\\envs\\final\\lib\\site-packages\\keras\\backend\\tensorflow_backend.py:74: The name tf.get_default_graph is deprecated. Please use tf.compat.v1.get_default_graph instead.\n",
      "\n",
      "WARNING:tensorflow:From C:\\Users\\Tsai\\Anaconda3\\envs\\final\\lib\\site-packages\\keras\\backend\\tensorflow_backend.py:517: The name tf.placeholder is deprecated. Please use tf.compat.v1.placeholder instead.\n",
      "\n",
      "WARNING:tensorflow:From C:\\Users\\Tsai\\Anaconda3\\envs\\final\\lib\\site-packages\\keras\\backend\\tensorflow_backend.py:133: The name tf.placeholder_with_default is deprecated. Please use tf.compat.v1.placeholder_with_default instead.\n",
      "\n",
      "WARNING:tensorflow:From C:\\Users\\Tsai\\Anaconda3\\envs\\final\\lib\\site-packages\\keras\\backend\\tensorflow_backend.py:4138: The name tf.random_uniform is deprecated. Please use tf.random.uniform instead.\n",
      "\n",
      "_________________________________________________________________\n",
      "Layer (type)                 Output Shape              Param #   \n",
      "=================================================================\n",
      "input_1 (InputLayer)         (None, 3072)              0         \n",
      "_________________________________________________________________\n",
      "batch_normalization_1 (Batch (None, 3072)              12288     \n",
      "_________________________________________________________________\n",
      "hidden_layer1 (Dense)        (None, 2048)              6293504   \n",
      "_________________________________________________________________\n",
      "batch_normalization_2 (Batch (None, 2048)              8192      \n",
      "_________________________________________________________________\n",
      "hidden_layer2 (Dense)        (None, 1024)              2098176   \n",
      "_________________________________________________________________\n",
      "batch_normalization_3 (Batch (None, 1024)              4096      \n",
      "_________________________________________________________________\n",
      "hidden_layer3 (Dense)        (None, 512)               524800    \n",
      "_________________________________________________________________\n",
      "batch_normalization_4 (Batch (None, 512)               2048      \n",
      "_________________________________________________________________\n",
      "hidden_layer4 (Dense)        (None, 256)               131328    \n",
      "_________________________________________________________________\n",
      "batch_normalization_5 (Batch (None, 256)               1024      \n",
      "_________________________________________________________________\n",
      "hidden_layer5 (Dense)        (None, 128)               32896     \n",
      "_________________________________________________________________\n",
      "batch_normalization_6 (Batch (None, 128)               512       \n",
      "_________________________________________________________________\n",
      "output (Dense)               (None, 10)                1290      \n",
      "=================================================================\n",
      "Total params: 9,110,154\n",
      "Trainable params: 9,096,074\n",
      "Non-trainable params: 14,080\n",
      "_________________________________________________________________\n",
      "WARNING:tensorflow:From C:\\Users\\Tsai\\Anaconda3\\envs\\final\\lib\\site-packages\\keras\\optimizers.py:790: The name tf.train.Optimizer is deprecated. Please use tf.compat.v1.train.Optimizer instead.\n",
      "\n",
      "WARNING:tensorflow:From C:\\Users\\Tsai\\Anaconda3\\envs\\final\\lib\\site-packages\\keras\\backend\\tensorflow_backend.py:3295: The name tf.log is deprecated. Please use tf.math.log instead.\n",
      "\n",
      "WARNING:tensorflow:From C:\\Users\\Tsai\\Anaconda3\\envs\\final\\lib\\site-packages\\tensorflow_core\\python\\ops\\math_grad.py:1424: where (from tensorflow.python.ops.array_ops) is deprecated and will be removed in a future version.\n",
      "Instructions for updating:\n",
      "Use tf.where in 2.0, which has the same broadcast rule as np.where\n",
      "WARNING:tensorflow:From C:\\Users\\Tsai\\Anaconda3\\envs\\final\\lib\\site-packages\\keras\\backend\\tensorflow_backend.py:986: The name tf.assign_add is deprecated. Please use tf.compat.v1.assign_add instead.\n",
      "\n",
      "WARNING:tensorflow:From C:\\Users\\Tsai\\Anaconda3\\envs\\final\\lib\\site-packages\\keras\\backend\\tensorflow_backend.py:973: The name tf.assign is deprecated. Please use tf.compat.v1.assign instead.\n",
      "\n",
      "WARNING:tensorflow:From C:\\Users\\Tsai\\Anaconda3\\envs\\final\\lib\\site-packages\\keras\\backend\\tensorflow_backend.py:2741: The name tf.Session is deprecated. Please use tf.compat.v1.Session instead.\n",
      "\n",
      "Train on 50000 samples, validate on 10000 samples\n",
      "Epoch 1/50\n",
      "WARNING:tensorflow:From C:\\Users\\Tsai\\Anaconda3\\envs\\final\\lib\\site-packages\\keras\\backend\\tensorflow_backend.py:174: The name tf.get_default_session is deprecated. Please use tf.compat.v1.get_default_session instead.\n",
      "\n",
      "WARNING:tensorflow:From C:\\Users\\Tsai\\Anaconda3\\envs\\final\\lib\\site-packages\\keras\\backend\\tensorflow_backend.py:181: The name tf.ConfigProto is deprecated. Please use tf.compat.v1.ConfigProto instead.\n",
      "\n",
      "WARNING:tensorflow:From C:\\Users\\Tsai\\Anaconda3\\envs\\final\\lib\\site-packages\\keras\\backend\\tensorflow_backend.py:190: The name tf.global_variables is deprecated. Please use tf.compat.v1.global_variables instead.\n",
      "\n",
      "WARNING:tensorflow:From C:\\Users\\Tsai\\Anaconda3\\envs\\final\\lib\\site-packages\\keras\\backend\\tensorflow_backend.py:199: The name tf.is_variable_initialized is deprecated. Please use tf.compat.v1.is_variable_initialized instead.\n",
      "\n",
      "WARNING:tensorflow:From C:\\Users\\Tsai\\Anaconda3\\envs\\final\\lib\\site-packages\\keras\\backend\\tensorflow_backend.py:206: The name tf.variables_initializer is deprecated. Please use tf.compat.v1.variables_initializer instead.\n",
      "\n",
      "50000/50000 [==============================] - 42s 840us/step - loss: 2.4468 - acc: 0.2175 - val_loss: 2.1049 - val_acc: 0.3245\n",
      "Epoch 2/50\n",
      "50000/50000 [==============================] - 53s 1ms/step - loss: 1.8088 - acc: 0.3779 - val_loss: 1.8576 - val_acc: 0.3858\n",
      "Epoch 3/50\n",
      "50000/50000 [==============================] - 47s 940us/step - loss: 1.5881 - acc: 0.4495 - val_loss: 1.7354 - val_acc: 0.4112\n",
      "Epoch 4/50\n",
      "50000/50000 [==============================] - 49s 982us/step - loss: 1.4526 - acc: 0.4998 - val_loss: 1.6716 - val_acc: 0.4259\n",
      "Epoch 5/50\n",
      "50000/50000 [==============================] - 46s 917us/step - loss: 1.3510 - acc: 0.5365 - val_loss: 1.6371 - val_acc: 0.4366\n",
      "Epoch 6/50\n",
      "50000/50000 [==============================] - 41s 815us/step - loss: 1.2643 - acc: 0.5722 - val_loss: 1.6123 - val_acc: 0.4415\n",
      "Epoch 7/50\n",
      "50000/50000 [==============================] - 41s 827us/step - loss: 1.1886 - acc: 0.6030 - val_loss: 1.6000 - val_acc: 0.4444\n",
      "Epoch 8/50\n",
      "50000/50000 [==============================] - 54s 1ms/step - loss: 1.1187 - acc: 0.6319 - val_loss: 1.5879 - val_acc: 0.4487\n",
      "Epoch 9/50\n",
      "50000/50000 [==============================] - 40s 801us/step - loss: 1.0528 - acc: 0.6594 - val_loss: 1.5805 - val_acc: 0.4493\n",
      "Epoch 10/50\n",
      "50000/50000 [==============================] - 41s 811us/step - loss: 0.9911 - acc: 0.6869 - val_loss: 1.5728 - val_acc: 0.4542\n",
      "Epoch 11/50\n",
      "50000/50000 [==============================] - 52s 1ms/step - loss: 0.9310 - acc: 0.7108 - val_loss: 1.5718 - val_acc: 0.4564\n",
      "Epoch 12/50\n",
      "50000/50000 [==============================] - 35s 694us/step - loss: 0.8734 - acc: 0.7370 - val_loss: 1.5715 - val_acc: 0.4585\n",
      "Epoch 13/50\n",
      "50000/50000 [==============================] - 50s 1ms/step - loss: 0.8180 - acc: 0.7611 - val_loss: 1.5717 - val_acc: 0.4605\n",
      "Epoch 14/50\n",
      "50000/50000 [==============================] - 37s 735us/step - loss: 0.7667 - acc: 0.7833 - val_loss: 1.5738 - val_acc: 0.4609\n",
      "Epoch 15/50\n",
      "50000/50000 [==============================] - 46s 924us/step - loss: 0.7155 - acc: 0.8041 - val_loss: 1.5790 - val_acc: 0.4642\n",
      "Epoch 16/50\n",
      "50000/50000 [==============================] - 50s 998us/step - loss: 0.6658 - acc: 0.8253 - val_loss: 1.5844 - val_acc: 0.4649\n",
      "Epoch 17/50\n",
      "50000/50000 [==============================] - 41s 826us/step - loss: 0.6199 - acc: 0.8448 - val_loss: 1.5903 - val_acc: 0.4681\n",
      "Epoch 18/50\n",
      "50000/50000 [==============================] - 44s 889us/step - loss: 0.5760 - acc: 0.8643 - val_loss: 1.6014 - val_acc: 0.4671\n",
      "Epoch 19/50\n",
      "50000/50000 [==============================] - 41s 818us/step - loss: 0.5334 - acc: 0.8813 - val_loss: 1.6101 - val_acc: 0.4682\n",
      "Epoch 20/50\n",
      "50000/50000 [==============================] - 33s 656us/step - loss: 0.4946 - acc: 0.8953 - val_loss: 1.6206 - val_acc: 0.4672\n",
      "Epoch 21/50\n"
     ]
    },
    {
     "name": "stdout",
     "output_type": "stream",
     "text": [
      "50000/50000 [==============================] - 41s 822us/step - loss: 0.4572 - acc: 0.9102 - val_loss: 1.6339 - val_acc: 0.4676\n",
      "Epoch 22/50\n",
      "50000/50000 [==============================] - 48s 954us/step - loss: 0.4205 - acc: 0.9234 - val_loss: 1.6447 - val_acc: 0.4671\n",
      "Epoch 23/50\n",
      "50000/50000 [==============================] - 48s 956us/step - loss: 0.3875 - acc: 0.9346 - val_loss: 1.6595 - val_acc: 0.4682\n",
      "Epoch 24/50\n",
      "50000/50000 [==============================] - 41s 826us/step - loss: 0.3557 - acc: 0.9453 - val_loss: 1.6741 - val_acc: 0.4681\n",
      "Epoch 25/50\n",
      "50000/50000 [==============================] - 34s 687us/step - loss: 0.3267 - acc: 0.9536 - val_loss: 1.6881 - val_acc: 0.4672\n",
      "Epoch 26/50\n",
      "50000/50000 [==============================] - 39s 788us/step - loss: 0.3011 - acc: 0.9607 - val_loss: 1.7011 - val_acc: 0.4690\n",
      "Epoch 27/50\n",
      "50000/50000 [==============================] - 36s 719us/step - loss: 0.2751 - acc: 0.9676 - val_loss: 1.7155 - val_acc: 0.4683\n",
      "Epoch 28/50\n",
      "50000/50000 [==============================] - 37s 741us/step - loss: 0.2537 - acc: 0.9727 - val_loss: 1.7318 - val_acc: 0.4673\n",
      "Epoch 29/50\n",
      "50000/50000 [==============================] - 41s 814us/step - loss: 0.2334 - acc: 0.9778 - val_loss: 1.7478 - val_acc: 0.4666\n",
      "Epoch 30/50\n",
      "50000/50000 [==============================] - 48s 965us/step - loss: 0.2130 - acc: 0.9821 - val_loss: 1.7630 - val_acc: 0.4675\n",
      "Epoch 31/50\n",
      "50000/50000 [==============================] - 50s 993us/step - loss: 0.1961 - acc: 0.9858 - val_loss: 1.7809 - val_acc: 0.4663\n",
      "Epoch 32/50\n",
      "50000/50000 [==============================] - 48s 951us/step - loss: 0.1810 - acc: 0.9886 - val_loss: 1.7926 - val_acc: 0.4687\n",
      "Epoch 33/50\n",
      "50000/50000 [==============================] - 50s 991us/step - loss: 0.1665 - acc: 0.9907 - val_loss: 1.8087 - val_acc: 0.4686\n",
      "Epoch 34/50\n",
      "50000/50000 [==============================] - 45s 908us/step - loss: 0.1538 - acc: 0.9926 - val_loss: 1.8259 - val_acc: 0.4671\n",
      "Epoch 35/50\n",
      "50000/50000 [==============================] - 46s 927us/step - loss: 0.1419 - acc: 0.9940 - val_loss: 1.8386 - val_acc: 0.4685\n",
      "Epoch 36/50\n",
      "50000/50000 [==============================] - 37s 738us/step - loss: 0.1317 - acc: 0.9950 - val_loss: 1.8544 - val_acc: 0.4663\n",
      "Epoch 37/50\n",
      "50000/50000 [==============================] - 40s 807us/step - loss: 0.1219 - acc: 0.9959 - val_loss: 1.8693 - val_acc: 0.4672\n",
      "Epoch 38/50\n",
      "50000/50000 [==============================] - 39s 786us/step - loss: 0.1127 - acc: 0.9968 - val_loss: 1.8816 - val_acc: 0.4670\n",
      "Epoch 39/50\n",
      "50000/50000 [==============================] - 42s 841us/step - loss: 0.1048 - acc: 0.9973 - val_loss: 1.8946 - val_acc: 0.4648\n",
      "Epoch 40/50\n",
      "50000/50000 [==============================] - 43s 851us/step - loss: 0.0981 - acc: 0.9978 - val_loss: 1.9088 - val_acc: 0.4670\n",
      "Epoch 41/50\n",
      "50000/50000 [==============================] - 40s 800us/step - loss: 0.0918 - acc: 0.9983 - val_loss: 1.9229 - val_acc: 0.4678\n",
      "Epoch 42/50\n",
      "50000/50000 [==============================] - 43s 851us/step - loss: 0.0856 - acc: 0.9987 - val_loss: 1.9339 - val_acc: 0.4673\n",
      "Epoch 43/50\n",
      "50000/50000 [==============================] - 36s 711us/step - loss: 0.0810 - acc: 0.9988 - val_loss: 1.9478 - val_acc: 0.4671\n",
      "Epoch 44/50\n",
      "50000/50000 [==============================] - 42s 849us/step - loss: 0.0758 - acc: 0.9990 - val_loss: 1.9571 - val_acc: 0.4683\n",
      "Epoch 45/50\n",
      "50000/50000 [==============================] - 46s 913us/step - loss: 0.0715 - acc: 0.9993 - val_loss: 1.9697 - val_acc: 0.4670\n",
      "Epoch 46/50\n",
      "50000/50000 [==============================] - 48s 955us/step - loss: 0.0672 - acc: 0.9992 - val_loss: 1.9805 - val_acc: 0.4667\n",
      "Epoch 47/50\n",
      "50000/50000 [==============================] - 47s 936us/step - loss: 0.0634 - acc: 0.9995 - val_loss: 1.9908 - val_acc: 0.4685\n",
      "Epoch 48/50\n",
      "50000/50000 [==============================] - 39s 781us/step - loss: 0.0601 - acc: 0.9996 - val_loss: 2.0016 - val_acc: 0.4686\n",
      "Epoch 49/50\n",
      "50000/50000 [==============================] - 40s 795us/step - loss: 0.0575 - acc: 0.9996 - val_loss: 2.0115 - val_acc: 0.4693\n",
      "Epoch 50/50\n",
      "50000/50000 [==============================] - 37s 738us/step - loss: 0.0542 - acc: 0.9996 - val_loss: 2.0213 - val_acc: 0.4684\n"
     ]
    }
   ],
   "source": [
    "# 載入 Callbacks\n",
    "\"\"\"Code Here\n",
    "設定 callbacks: model checkpoint\n",
    "\"\"\"\n",
    "from keras.callbacks import ModelCheckpoint\n",
    "\n",
    "model_ckpt = ModelCheckpoint(filepath=\"./tmp.h5\", \n",
    "                             monitor=\"val_loss\", \n",
    "                             save_best_only=True,\n",
    "                             save_weights_only=True)\n",
    "results = {}\n",
    "\"\"\"Code Here\n",
    "撰寫你的訓練流程並將結果用 dictionary 紀錄\n",
    "\"\"\"\n",
    "model = build_mlp(input_shape=x_train.shape[1:])\n",
    "model.summary()\n",
    "optimizer = keras.optimizers.SGD(lr=LEARNING_RATE, nesterov=True, momentum=MOMENTUM)\n",
    "model.compile(loss=\"categorical_crossentropy\", metrics=[\"accuracy\"], optimizer=optimizer)\n",
    "\n",
    "model.fit(x_train, y_train, \n",
    "          epochs=EPOCHS, \n",
    "          batch_size=BATCH_SIZE, \n",
    "          validation_data=(x_test, y_test), \n",
    "          shuffle=True,\n",
    "          callbacks=[model_ckpt]\n",
    "         )\n",
    "\n",
    "# Collect results\n",
    "train_loss = model.history.history[\"loss\"]\n",
    "valid_loss = model.history.history[\"val_loss\"]\n",
    "train_acc = model.history.history[\"acc\"]\n",
    "valid_acc = model.history.history[\"val_acc\"]"
   ]
  },
  {
   "cell_type": "code",
   "execution_count": 9,
   "metadata": {},
   "outputs": [
    {
     "name": "stdout",
     "output_type": "stream",
     "text": [
      "10000/10000 [==============================] - 26s 3ms/step\n"
     ]
    }
   ],
   "source": [
    "# Load back\n",
    "model_load = build_mlp(input_shape=x_train.shape[1:])\n",
    "optimizer = keras.optimizers.SGD(lr=LEARNING_RATE, nesterov=True, momentum=MOMENTUM)\n",
    "model_load.compile(loss=\"categorical_crossentropy\", metrics=[\"accuracy\"], optimizer=optimizer)\n",
    "\n",
    "model_load.load_weights(\"./tmp.h5\")\n",
    "loss_loadback, acc_loadback = model_load.evaluate(x_test, y_test)"
   ]
  },
  {
   "cell_type": "code",
   "execution_count": 10,
   "metadata": {
    "scrolled": true
   },
   "outputs": [
    {
     "data": {
      "image/png": "[encoded data removed]",
      "text/plain": [
       "<Figure size 432x288 with 1 Axes>"
      ]
     },
     "metadata": {
      "needs_background": "light"
     },
     "output_type": "display_data"
    },
    {
     "data": {
      "image/png": "[encoded data removed]",
      "text/plain": [
       "<Figure size 432x288 with 1 Axes>"
      ]
     },
     "metadata": {
      "needs_background": "light"
     },
     "output_type": "display_data"
    }
   ],
   "source": [
    "import matplotlib.pyplot as plt\n",
    "%matplotlib inline\n",
    "\"\"\"Code Here\n",
    "將結果繪出\n",
    "\"\"\"\n",
    "plt.plot(range(len(train_loss)), train_loss, label=\"train loss\")\n",
    "plt.plot(range(len(valid_loss)), valid_loss, label=\"valid loss\")\n",
    "plt.hlines(y=loss_loadback, xmin=0, xmax=len(train_loss), colors='r', linestyles='--')\n",
    "plt.legend()\n",
    "plt.title(\"Loss\")\n",
    "plt.show()\n",
    "\n",
    "plt.plot(range(len(train_acc)), train_acc, label=\"train accuracy\")\n",
    "plt.plot(range(len(valid_acc)), valid_acc, label=\"valid accuracy\")\n",
    "plt.hlines(y=acc_loadback, xmin=0, xmax=len(train_loss), colors='r', linestyles='--')\n",
    "plt.legend()\n",
    "plt.title(\"Accuracy\")\n",
    "plt.show()"
   ]
  }
 ],
 "metadata": {
  "kernelspec": {
   "display_name": "Python 3",
   "language": "python",
   "name": "python3"
  },
  "language_info": {
   "codemirror_mode": {
    "name": "ipython",
    "version": 3
   },
   "file_extension": ".py",
   "mimetype": "text/x-python",
   "name": "python",
   "nbconvert_exporter": "python",
   "pygments_lexer": "ipython3",
   "version": "3.7.5"
  }
 },
 "nbformat": 4,
 "nbformat_minor": 2
}
