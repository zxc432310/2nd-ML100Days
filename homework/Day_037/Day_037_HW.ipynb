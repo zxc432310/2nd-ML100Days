{
 "cells": [
  {
   "cell_type": "markdown",
   "metadata": {},
   "source": [
    "## [作業重點]\n",
    "了解線性回歸的模型發展歷程，並了解優勢與劣勢，以及其使用情境"
   ]
  },
  {
   "cell_type": "markdown",
   "metadata": {},
   "source": [
    "## 作業"
   ]
  },
  {
   "cell_type": "markdown",
   "metadata": {},
   "source": [
    "請閱讀以下相關文獻，並回答以下問題\n",
    "\n",
    "[Linear Regression 詳細介紹](https://brohrer.mcknote.com/zh-Hant/how_machine_learning_works/how_linear_regression_works.html)\n",
    "\n",
    "[Logistics Regression 詳細介紹](https://medium.com/@yehjames/%E8%B3%87%E6%96%99%E5%88%86%E6%9E%90-%E6%A9%9F%E5%99%A8%E5%AD%B8%E7%BF%92-%E7%AC%AC3-3%E8%AC%9B-%E7%B7%9A%E6%80%A7%E5%88%86%E9%A1%9E-%E9%82%8F%E8%BC%AF%E6%96%AF%E5%9B%9E%E6%AD%B8-logistic-regression-%E4%BB%8B%E7%B4%B9-a1a5f47017e5)\n"
   ]
  },
  {
   "cell_type": "markdown",
   "metadata": {},
   "source": [
    "1. 線性回歸模型能夠準確預測非線性關係的資料集嗎?\n",
    "\n",
    "   Ans:@線性迴歸（linear regression）是在資料點中找出規律、畫出一條直線的專業說法。\n",
    "       @非線性迴歸是一種尋找因變數及一組自變數之間關係非線性模型的方法。\n",
    "       ->非線性關係的資料很分散，用線性回歸模型不一定能找到很好的規律，所以無法準確預測，所以機器學習皆用非線性迴歸模型-梯度下降法來求解最\n",
    "       優模型參數\n",
    "\n",
    "* https://kknews.cc/zh-tw/other/r8xgqjx.html\n",
    "* https://kknews.cc/zh-tw/news/aojq88v.html\n",
    "\n",
    "2. 回歸模型是否對資料分布有基本假設?\n",
    "\n",
    "    Ans:比如Linear Regression線性迴歸模型是用來預測連續型目標變數與預測變數間的線性關係，並存在許多資料符合常態分佈與線性關係等基本假設。\n",
    "       #資料載入與檢視\n",
    "        1.資料載入與檢視\n",
    "        2.資料探索(Exploratory Data Analysis, EDA)：視覺化分析\n",
    "            1.視覺化預測變數與目標變數間的關係：相關係數矩陣、散佈圖scatter plot\n",
    "            2.偵測離群值：盒須圖box plot\n",
    "            3.檢查預測變數分佈是否為常態分佈(鐘型)而沒有左右偏移：機率密度圖density plot\n",
    "        3.資料前處理\n",
    "            1.離群值處理\n",
    "            2.標準化-使變數間關係衡量不受單位規模數值影響\n",
    "            3.變數轉換-使變數接近常態分佈，以符合模型假設\n",
    "            4.遺失值填補-使用MICE()套件來預測遺失值\n",
    "        4.建立預測線性模型\n",
    "            1.Pooling – 綜合多組遺失值填補後的datasets建立回歸模型，並摘要模型配適結果\n",
    "            2.CompleteData – 挑選其中一組遺失填補後的dataset建立回歸模型，並摘要模型配適結果\n",
    "        5.線性回歸模型適合度診斷\n",
    "            1.資料是否符合線性迴歸模型假設\n",
    "            2.使用gvlma套件檢測\n",
    "            3.使用shapiro test 來看變數是否成常態分佈\n",
    "        6.模型驗證\n",
    "            1.檢視(比較)模型配適能力常用指標\n",
    "            2.80% 訓練 20%驗證\n",
    "                * 真實值與預測值相關性(Correlation)\n",
    "                * 正確率(min_max_accuracy)\n",
    "                * 錯誤率(MAPE ,Mean absolute percentage error)\n",
    "            3.加強版模型效果驗證：K-fold Cross Validation\n",
    "                * mean squared error\n",
    "        7.結論\n",
    "\n"
   ]
  }
 ],
 "metadata": {
  "kernelspec": {
   "display_name": "Python 3",
   "language": "python",
   "name": "python3"
  },
  "language_info": {
   "codemirror_mode": {
    "name": "ipython",
    "version": 3
   },
   "file_extension": ".py",
   "mimetype": "text/x-python",
   "name": "python",
   "nbconvert_exporter": "python",
   "pygments_lexer": "ipython3",
   "version": "3.7.3"
  }
 },
 "nbformat": 4,
 "nbformat_minor": 2
}
