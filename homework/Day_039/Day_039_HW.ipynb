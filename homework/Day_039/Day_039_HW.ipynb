{
 "cells": [
  {
   "cell_type": "markdown",
   "metadata": {},
   "source": [
    "## [作業重點]\n",
    "清楚了解 L1, L2 的意義與差異為何，並了解 LASSO 與 Ridge 之間的差異與使用情境"
   ]
  },
  {
   "cell_type": "markdown",
   "metadata": {},
   "source": [
    "## 作業"
   ]
  },
  {
   "cell_type": "markdown",
   "metadata": {},
   "source": [
    "請閱讀相關文獻，並回答下列問題\n",
    "\n",
    "[脊回歸 (Ridge Regression)](https://blog.csdn.net/daunxx/article/details/51578787)\n",
    "[Linear, Ridge, Lasso Regression 本質區別](https://www.zhihu.com/question/38121173)\n",
    "\n",
    "1. LASSO 回歸可以被用來作為 Feature selection 的工具，請了解 LASSO 模型為什麼可用來作 Feature selection\n",
    "2. 當自變數 (X) 存在高度共線性時，Ridge Regression 可以處理這樣的問題嗎?\n"
   ]
  },
  {
   "attachments": {},
   "cell_type": "markdown",
   "metadata": {},
   "source": [
    "參考網址:\n",
    "\n",
    "I.https://www.jamleecute.com/regularized-regression-ridge-lasso-elastic/\n",
    "II.https://codertw.com/%E7%A8%8B%E5%BC%8F%E8%AA%9E%E8%A8%80/45092/\n",
    "\n",
    "Ans:\n",
    "\n",
    "    1.Ridge模型只會將係數逼近到接近零（但不會真的是0），Lasso模型則真的會將係數推進成0，\n",
    "      Lasso模型不僅能使用正規化(regulariztion)來優化模型，亦可以自動執行變數篩選(Feature selection)\n",
    "      Advantages and Disadvantages\n",
    "      \n",
    "      優點\n",
    "        a.與Ridge模型一樣，Lasso模型亦會將具有相關性的變數推向彼此，並避免使得其中一個有極大正係數另一個有極大負係數的情況。\n",
    "        b.與Ridge模型最大的差別，就是Lasso會將不具影響力的變數係數變成0，自動進行變數篩選(Feature selection)。\n",
    "        這樣的處理方式簡化並自動化識別出那些對模型預測正確性有高度影響力的變數。\n",
    "      缺點\n",
    "        a.然而，時常在我們移除變數的同時也會犧牲掉模型的正確性。所以為了得到Lasso產生的更清楚與簡潔的模型結果，\n",
    "        我們也會降低模型的正確性。\n",
    "        \n",
    "  ![image.png](https://www.jamleecute.com/wp-content/uploads/2019/01/unnamed-chunk-194-1.png)\n",
    "  \n",
    "  \n",
    "    2.可以，嶺迴歸分析(Ridge Regression)是一種用於存在多重共線性（自變數高度相關）資料的技術。在多重共線性情況下，儘管最小二乘法（OLS）對每個變數很公平，但它們的差異很大，使得觀測值偏移並遠離真實值。嶺迴歸通過給迴歸估計上增加一個偏差度，來降低標準誤差。"
   ]
  },
  {
   "cell_type": "code",
   "execution_count": null,
   "metadata": {},
   "outputs": [],
   "source": []
  }
 ],
 "metadata": {
  "kernelspec": {
   "display_name": "Python 3",
   "language": "python",
   "name": "python3"
  },
  "language_info": {
   "codemirror_mode": {
    "name": "ipython",
    "version": 3
   },
   "file_extension": ".py",
   "mimetype": "text/x-python",
   "name": "python",
   "nbconvert_exporter": "python",
   "pygments_lexer": "ipython3",
   "version": "3.7.3"
  }
 },
 "nbformat": 4,
 "nbformat_minor": 2
}
