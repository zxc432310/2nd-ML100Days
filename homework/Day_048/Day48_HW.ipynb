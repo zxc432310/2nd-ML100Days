{
 "cells": [
  {
   "cell_type": "code",
   "execution_count": 1,
   "metadata": {},
   "outputs": [],
   "source": [
    "import numpy as np\n",
    "import pandas as pd\n",
    "from sklearn.model_selection import train_test_split\n",
    "from sklearn.neighbors import KNeighborsClassifier # K最近邻(kNN，k-NearestNeighbor)分类算法"
   ]
  },
  {
   "cell_type": "code",
   "execution_count": 2,
   "metadata": {},
   "outputs": [
    {
     "name": "stdout",
     "output_type": "stream",
     "text": [
      "0.872\n",
      "shape :  (9000, 1)\n"
     ]
    }
   ],
   "source": [
    "dir_data = './data/'\n",
    "\n",
    "train = np.genfromtxt(open(dir_data + 'train.csv','rb'), delimiter=',')\n",
    "target = np.genfromtxt(open(dir_data + 'trainLabels.csv','rb'), delimiter=',')\n",
    "test = np.genfromtxt(open(dir_data + 'test.csv','rb'), delimiter=',')\n",
    "\n",
    "#分割數據\n",
    "X_train, X_test, y_train, y_test = train_test_split(train, target , random_state=4)\n",
    "\n",
    "#建立模型\n",
    "knn = KNeighborsClassifier()\n",
    "\n",
    "#訓練模型\n",
    "knn.fit(X_train, y_train)\n",
    "\n",
    "#將準確率打印出\n",
    "print(knn.score(X_test, y_test))\n",
    "# 0.973684210526\n",
    "\n",
    "knn_best_pred = pd.DataFrame(knn.fit(train, target).predict(test))\n",
    "knn_best_pred.columns=['Solution']\n",
    "print('shape : ',knn_best_pred.shape)\n",
    "\n",
    "knn_best_pred['Id']=np.arange(1,knn_best_pred.shape[0]+1)\n",
    "knn_best_pred = knn_best_pred[['Id','Solution']]\n",
    "\n",
    "knn_best_pred.to_csv('result.csv', encoding='utf-8', index=False)"
   ]
  },
  {
   "cell_type": "markdown",
   "metadata": {},
   "source": [
    "## 參考網站\n",
    "1.kaggle score=0原因 https://blog.csdn.net/iam_emily/article/details/79526329\n",
    "2.score 0.99 https://github.com/siddharthagarwal/Kaggle-Data-Science-London-Scikit-Learn/blob/master/london.py\n",
    "3.參考資料  \n",
    "    a.http://m.newsmth.net/article/SearchEngineTech/34749?au=pizhoupeter\n",
    "    b.https://morvanzhou.github.io/tutorials/machine-learning/sklearn/3-2-cross-validation1/"
   ]
  }
 ],
 "metadata": {
  "kernelspec": {
   "display_name": "Python 3",
   "language": "python",
   "name": "python3"
  },
  "language_info": {
   "codemirror_mode": {
    "name": "ipython",
    "version": 3
   },
   "file_extension": ".py",
   "mimetype": "text/x-python",
   "name": "python",
   "nbconvert_exporter": "python",
   "pygments_lexer": "ipython3",
   "version": "3.7.3"
  }
 },
 "nbformat": 4,
 "nbformat_minor": 2
}
