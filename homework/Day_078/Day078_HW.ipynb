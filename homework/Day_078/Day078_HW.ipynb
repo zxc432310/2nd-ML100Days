{
 "cells": [
  {
   "cell_type": "markdown",
   "metadata": {},
   "source": [
    "## Work\n",
    "1. 請嘗試將 preproc_x 替換成以每筆資料的 min/max 進行標準化至 -1 ~ 1 間，再進行訓練\n",
    "2. 請嘗試將 mlp 疊更深 (e.g 5~10 層)，進行訓練後觀察 learning curve 的走勢\n",
    "3. (optional) 請改用 GPU 進行訓練 (如果你有 GPU 的話)，比較使用 CPU 與 GPU 的訓練速度"
   ]
  },
  {
   "cell_type": "code",
   "execution_count": 1,
   "metadata": {},
   "outputs": [
    {
     "name": "stdout",
     "output_type": "stream",
     "text": [
      "Sun Jan 19 18:45:30 2020       \n",
      "+-----------------------------------------------------------------------------+\n",
      "| NVIDIA-SMI 430.86       Driver Version: 430.86       CUDA Version: 10.2     |\n",
      "|-------------------------------+----------------------+----------------------+\n",
      "| GPU  Name            TCC/WDDM | Bus-Id        Disp.A | Volatile Uncorr. ECC |\n",
      "| Fan  Temp  Perf  Pwr:Usage/Cap|         Memory-Usage | GPU-Util  Compute M. |\n",
      "|===============================+======================+======================|\n",
      "|   0  GeForce GTX 1050   WDDM  | 00000000:01:00.0  On |                  N/A |\n",
      "| 35%   28C    P8    N/A /  75W |    539MiB /  2048MiB |      4%      Default |\n",
      "+-------------------------------+----------------------+----------------------+\n",
      "                                                                               \n",
      "+-----------------------------------------------------------------------------+\n",
      "| Processes:                                                       GPU Memory |\n",
      "|  GPU       PID   Type   Process name                             Usage      |\n",
      "|=============================================================================|\n",
      "|    0      1240    C+G   Insufficient Permissions                   N/A      |\n",
      "|    0      1712    C+G   ...1.0_x64__8wekyb3d8bbwe\\WinStore.App.exe N/A      |\n",
      "|    0      5088    C+G   Insufficient Permissions                   N/A      |\n",
      "|    0      5496    C+G   ...6)\\Google\\Chrome\\Application\\chrome.exe N/A      |\n",
      "|    0      6824    C+G   C:\\Windows\\explorer.exe                    N/A      |\n",
      "|    0      7432    C+G   ...dows.Cortana_cw5n1h2txyewy\\SearchUI.exe N/A      |\n",
      "|    0      7508    C+G   ...hell.Experiences.TextInput.InputApp.exe N/A      |\n",
      "|    0      7728    C+G   ..._x64__8wekyb3d8bbwe\\Microsoft.Notes.exe N/A      |\n",
      "|    0      7752    C+G   ...t_cw5n1h2txyewy\\ShellExperienceHost.exe N/A      |\n",
      "|    0      8576    C+G   ...x64__8wekyb3d8bbwe\\Microsoft.Photos.exe N/A      |\n",
      "|    0      9140    C+G   ...5.131.0_x64__kzf8qxf38zg5c\\SkypeApp.exe N/A      |\n",
      "|    0      9192    C+G   ...osoft.LockApp_cw5n1h2txyewy\\LockApp.exe N/A      |\n",
      "|    0      9200    C+G   ...2.89.0_x64__8wekyb3d8bbwe\\YourPhone.exe N/A      |\n",
      "|    0      9656    C+G   ...mmersiveControlPanel\\SystemSettings.exe N/A      |\n",
      "|    0      9992    C+G   ...10711.0_x64__8wekyb3d8bbwe\\Video.UI.exe N/A      |\n",
      "|    0     10528    C+G   Insufficient Permissions                   N/A      |\n",
      "|    0     12152    C+G   ...tHubDesktop\\app-2.2.4\\GitHubDesktop.exe N/A      |\n",
      "+-----------------------------------------------------------------------------+\n"
     ]
    }
   ],
   "source": [
    "## \n",
    "\"\"\"\n",
    "Your code here (optional)\n",
    "確認硬體資源\n",
    "\"\"\"\n",
    "!nvidia-smi"
   ]
  },
  {
   "cell_type": "code",
   "execution_count": 2,
   "metadata": {},
   "outputs": [
    {
     "name": "stderr",
     "output_type": "stream",
     "text": [
      "Using TensorFlow backend.\n"
     ]
    }
   ],
   "source": [
    "import os\n",
    "import keras\n",
    "\n",
    "# 請嘗試設定 GPU：os.environ\n",
    "os.environ[\"CUDA_VISIBLE_DEVICES\"] = '0'"
   ]
  },
  {
   "cell_type": "code",
   "execution_count": 3,
   "metadata": {},
   "outputs": [],
   "source": [
    "train, test = keras.datasets.cifar10.load_data()"
   ]
  },
  {
   "cell_type": "code",
   "execution_count": 4,
   "metadata": {},
   "outputs": [],
   "source": [
    "import numpy as np\n",
    "## 資料前處理\n",
    "\"\"\"\n",
    "Your code here\n",
    "\"\"\"\n",
    "def preproc_x(x, flatten=True):\n",
    "    x = x / 255.\n",
    "    if flatten:\n",
    "        x = x.reshape((len(x), -1))\n",
    "    return x\n",
    "\n",
    "def preproc_y(y, num_classes=10):\n",
    "    if y.shape[-1] == 1:\n",
    "        y = keras.utils.to_categorical(y, num_classes)\n",
    "    return y\n",
    "# def preproc_y():\n",
    "#     pass"
   ]
  },
  {
   "cell_type": "code",
   "execution_count": 5,
   "metadata": {},
   "outputs": [],
   "source": [
    "x_train, y_train = train\n",
    "x_test, y_test = test\n",
    "\n",
    "# Preproc the inputs\n",
    "x_train = preproc_x(x_train)\n",
    "x_test = preproc_x(x_test)\n",
    "\n",
    "# Preprc the outputs\n",
    "y_train = preproc_y(y_train)\n",
    "y_test = preproc_y(y_test)"
   ]
  },
  {
   "cell_type": "code",
   "execution_count": 6,
   "metadata": {},
   "outputs": [
    {
     "name": "stdout",
     "output_type": "stream",
     "text": [
      "WARNING:tensorflow:From C:\\Users\\Tsai\\Anaconda3\\envs\\final\\lib\\site-packages\\keras\\backend\\tensorflow_backend.py:74: The name tf.get_default_graph is deprecated. Please use tf.compat.v1.get_default_graph instead.\n",
      "\n",
      "WARNING:tensorflow:From C:\\Users\\Tsai\\Anaconda3\\envs\\final\\lib\\site-packages\\keras\\backend\\tensorflow_backend.py:517: The name tf.placeholder is deprecated. Please use tf.compat.v1.placeholder instead.\n",
      "\n",
      "WARNING:tensorflow:From C:\\Users\\Tsai\\Anaconda3\\envs\\final\\lib\\site-packages\\keras\\backend\\tensorflow_backend.py:4138: The name tf.random_uniform is deprecated. Please use tf.random.uniform instead.\n",
      "\n",
      "_________________________________________________________________\n",
      "Layer (type)                 Output Shape              Param #   \n",
      "=================================================================\n",
      "input_1 (InputLayer)         (None, 3072)              0         \n",
      "_________________________________________________________________\n",
      "dense_1 (Dense)              (None, 512)               1573376   \n",
      "_________________________________________________________________\n",
      "dense_2 (Dense)              (None, 256)               131328    \n",
      "_________________________________________________________________\n",
      "dense_3 (Dense)              (None, 128)               32896     \n",
      "_________________________________________________________________\n",
      "dense_4 (Dense)              (None, 10)                1290      \n",
      "=================================================================\n",
      "Total params: 1,738,890\n",
      "Trainable params: 1,738,890\n",
      "Non-trainable params: 0\n",
      "_________________________________________________________________\n"
     ]
    }
   ],
   "source": [
    "\"\"\"Code Here\n",
    "建立你的神經網路\n",
    "\"\"\"\n",
    "def build_mlp():\n",
    "    input_layer = keras.layers.Input([x_train.shape[-1]])\n",
    "    x = keras.layers.Dense(units=512, activation=\"relu\")(input_layer)\n",
    "    x = keras.layers.Dense(units=256, activation=\"relu\")(x)\n",
    "    x = keras.layers.Dense(units=128, activation=\"relu\")(x)\n",
    "    out = keras.layers.Dense(units=10, activation=\"softmax\")(x)\n",
    "    \n",
    "    model = keras.models.Model(inputs=[input_layer], outputs=[out])\n",
    "    return model\n",
    "\n",
    "model = build_mlp()\n",
    "model.summary()"
   ]
  },
  {
   "cell_type": "code",
   "execution_count": 7,
   "metadata": {},
   "outputs": [],
   "source": [
    "## 超參數設定\n",
    "LEARNING_RATE = 0.001\n",
    "EPOCHS = 100\n",
    "BATCH_SIZE = 256"
   ]
  },
  {
   "cell_type": "code",
   "execution_count": 8,
   "metadata": {},
   "outputs": [
    {
     "name": "stdout",
     "output_type": "stream",
     "text": [
      "WARNING:tensorflow:From C:\\Users\\Tsai\\Anaconda3\\envs\\final\\lib\\site-packages\\keras\\optimizers.py:790: The name tf.train.Optimizer is deprecated. Please use tf.compat.v1.train.Optimizer instead.\n",
      "\n",
      "WARNING:tensorflow:From C:\\Users\\Tsai\\Anaconda3\\envs\\final\\lib\\site-packages\\keras\\backend\\tensorflow_backend.py:3295: The name tf.log is deprecated. Please use tf.math.log instead.\n",
      "\n"
     ]
    }
   ],
   "source": [
    "optimizer = keras.optimizers.Adam(lr=LEARNING_RATE)\n",
    "model.compile(loss=\"categorical_crossentropy\", metrics=[\"accuracy\"], optimizer=optimizer)"
   ]
  },
  {
   "cell_type": "code",
   "execution_count": 9,
   "metadata": {},
   "outputs": [
    {
     "name": "stdout",
     "output_type": "stream",
     "text": [
      "WARNING:tensorflow:From C:\\Users\\Tsai\\Anaconda3\\envs\\final\\lib\\site-packages\\tensorflow_core\\python\\ops\\math_grad.py:1424: where (from tensorflow.python.ops.array_ops) is deprecated and will be removed in a future version.\n",
      "Instructions for updating:\n",
      "Use tf.where in 2.0, which has the same broadcast rule as np.where\n",
      "WARNING:tensorflow:From C:\\Users\\Tsai\\Anaconda3\\envs\\final\\lib\\site-packages\\keras\\backend\\tensorflow_backend.py:986: The name tf.assign_add is deprecated. Please use tf.compat.v1.assign_add instead.\n",
      "\n",
      "WARNING:tensorflow:From C:\\Users\\Tsai\\Anaconda3\\envs\\final\\lib\\site-packages\\keras\\backend\\tensorflow_backend.py:973: The name tf.assign is deprecated. Please use tf.compat.v1.assign instead.\n",
      "\n",
      "WARNING:tensorflow:From C:\\Users\\Tsai\\Anaconda3\\envs\\final\\lib\\site-packages\\keras\\backend\\tensorflow_backend.py:2741: The name tf.Session is deprecated. Please use tf.compat.v1.Session instead.\n",
      "\n",
      "Train on 50000 samples, validate on 10000 samples\n",
      "Epoch 1/100\n",
      "WARNING:tensorflow:From C:\\Users\\Tsai\\Anaconda3\\envs\\final\\lib\\site-packages\\keras\\backend\\tensorflow_backend.py:174: The name tf.get_default_session is deprecated. Please use tf.compat.v1.get_default_session instead.\n",
      "\n",
      "WARNING:tensorflow:From C:\\Users\\Tsai\\Anaconda3\\envs\\final\\lib\\site-packages\\keras\\backend\\tensorflow_backend.py:181: The name tf.ConfigProto is deprecated. Please use tf.compat.v1.ConfigProto instead.\n",
      "\n",
      "WARNING:tensorflow:From C:\\Users\\Tsai\\Anaconda3\\envs\\final\\lib\\site-packages\\keras\\backend\\tensorflow_backend.py:190: The name tf.global_variables is deprecated. Please use tf.compat.v1.global_variables instead.\n",
      "\n",
      "WARNING:tensorflow:From C:\\Users\\Tsai\\Anaconda3\\envs\\final\\lib\\site-packages\\keras\\backend\\tensorflow_backend.py:199: The name tf.is_variable_initialized is deprecated. Please use tf.compat.v1.is_variable_initialized instead.\n",
      "\n",
      "WARNING:tensorflow:From C:\\Users\\Tsai\\Anaconda3\\envs\\final\\lib\\site-packages\\keras\\backend\\tensorflow_backend.py:206: The name tf.variables_initializer is deprecated. Please use tf.compat.v1.variables_initializer instead.\n",
      "\n",
      "50000/50000 [==============================] - 10s 199us/step - loss: 1.9020 - acc: 0.3118 - val_loss: 1.7840 - val_acc: 0.3589\n",
      "Epoch 2/100\n",
      "50000/50000 [==============================] - 9s 188us/step - loss: 1.6990 - acc: 0.3910 - val_loss: 1.6621 - val_acc: 0.4021\n",
      "Epoch 3/100\n",
      "50000/50000 [==============================] - 10s 202us/step - loss: 1.6174 - acc: 0.4207 - val_loss: 1.6272 - val_acc: 0.4105\n",
      "Epoch 4/100\n",
      "50000/50000 [==============================] - 10s 206us/step - loss: 1.5452 - acc: 0.4490 - val_loss: 1.5305 - val_acc: 0.4543\n",
      "Epoch 5/100\n",
      "50000/50000 [==============================] - 9s 189us/step - loss: 1.5002 - acc: 0.4607 - val_loss: 1.5197 - val_acc: 0.4529\n",
      "Epoch 6/100\n",
      "50000/50000 [==============================] - 10s 199us/step - loss: 1.4623 - acc: 0.4762 - val_loss: 1.5346 - val_acc: 0.4508\n",
      "Epoch 7/100\n",
      "50000/50000 [==============================] - 10s 196us/step - loss: 1.4385 - acc: 0.4867 - val_loss: 1.4458 - val_acc: 0.4883\n",
      "Epoch 8/100\n",
      "50000/50000 [==============================] - 9s 175us/step - loss: 1.4039 - acc: 0.4989 - val_loss: 1.4661 - val_acc: 0.4746\n",
      "Epoch 9/100\n",
      "50000/50000 [==============================] - 9s 180us/step - loss: 1.3845 - acc: 0.5065 - val_loss: 1.4610 - val_acc: 0.4870\n",
      "Epoch 10/100\n",
      "50000/50000 [==============================] - 9s 182us/step - loss: 1.3467 - acc: 0.5206 - val_loss: 1.4055 - val_acc: 0.4991\n",
      "Epoch 11/100\n",
      "50000/50000 [==============================] - 9s 178us/step - loss: 1.3280 - acc: 0.5267 - val_loss: 1.4023 - val_acc: 0.4969\n",
      "Epoch 12/100\n",
      "50000/50000 [==============================] - 9s 174us/step - loss: 1.3009 - acc: 0.5349 - val_loss: 1.3828 - val_acc: 0.5166\n",
      "Epoch 13/100\n",
      "50000/50000 [==============================] - 9s 179us/step - loss: 1.2754 - acc: 0.5460 - val_loss: 1.3884 - val_acc: 0.5062\n",
      "Epoch 14/100\n",
      "50000/50000 [==============================] - 9s 179us/step - loss: 1.2581 - acc: 0.5502 - val_loss: 1.4145 - val_acc: 0.4980\n",
      "Epoch 15/100\n",
      "50000/50000 [==============================] - 9s 176us/step - loss: 1.2350 - acc: 0.5595 - val_loss: 1.3649 - val_acc: 0.5176\n",
      "Epoch 16/100\n",
      "50000/50000 [==============================] - 9s 182us/step - loss: 1.2067 - acc: 0.5696 - val_loss: 1.3984 - val_acc: 0.5084\n",
      "Epoch 17/100\n",
      "50000/50000 [==============================] - 9s 174us/step - loss: 1.1957 - acc: 0.5723 - val_loss: 1.3816 - val_acc: 0.5125\n",
      "Epoch 18/100\n",
      "50000/50000 [==============================] - 9s 178us/step - loss: 1.1726 - acc: 0.5796 - val_loss: 1.3570 - val_acc: 0.5220\n",
      "Epoch 19/100\n",
      "50000/50000 [==============================] - 9s 175us/step - loss: 1.1509 - acc: 0.5893 - val_loss: 1.3707 - val_acc: 0.5201\n",
      "Epoch 20/100\n",
      "50000/50000 [==============================] - 9s 179us/step - loss: 1.1392 - acc: 0.5936 - val_loss: 1.4049 - val_acc: 0.5079\n",
      "Epoch 21/100\n",
      "50000/50000 [==============================] - 9s 173us/step - loss: 1.1147 - acc: 0.6014 - val_loss: 1.3959 - val_acc: 0.5206\n",
      "Epoch 22/100\n",
      "50000/50000 [==============================] - 9s 178us/step - loss: 1.0953 - acc: 0.6076 - val_loss: 1.3689 - val_acc: 0.5266\n",
      "Epoch 23/100\n",
      "50000/50000 [==============================] - 9s 179us/step - loss: 1.0677 - acc: 0.6171 - val_loss: 1.4571 - val_acc: 0.5044\n",
      "Epoch 24/100\n",
      "50000/50000 [==============================] - 9s 175us/step - loss: 1.0620 - acc: 0.6202 - val_loss: 1.3971 - val_acc: 0.5223\n",
      "Epoch 25/100\n",
      "50000/50000 [==============================] - 9s 180us/step - loss: 1.0367 - acc: 0.6291 - val_loss: 1.4003 - val_acc: 0.5209\n",
      "Epoch 26/100\n",
      "50000/50000 [==============================] - 9s 174us/step - loss: 1.0134 - acc: 0.6392 - val_loss: 1.4356 - val_acc: 0.5201\n",
      "Epoch 27/100\n",
      "50000/50000 [==============================] - 9s 179us/step - loss: 1.0035 - acc: 0.6424 - val_loss: 1.4285 - val_acc: 0.5162\n",
      "Epoch 28/100\n",
      "50000/50000 [==============================] - 9s 176us/step - loss: 0.9840 - acc: 0.6472 - val_loss: 1.3986 - val_acc: 0.5300\n",
      "Epoch 29/100\n",
      "50000/50000 [==============================] - 9s 180us/step - loss: 0.9587 - acc: 0.6562 - val_loss: 1.4181 - val_acc: 0.5226\n",
      "Epoch 30/100\n",
      "50000/50000 [==============================] - 9s 175us/step - loss: 0.9398 - acc: 0.6637 - val_loss: 1.4449 - val_acc: 0.5129\n",
      "Epoch 31/100\n",
      "50000/50000 [==============================] - 9s 179us/step - loss: 0.9259 - acc: 0.6707 - val_loss: 1.4859 - val_acc: 0.5167\n",
      "Epoch 32/100\n",
      "50000/50000 [==============================] - 9s 180us/step - loss: 0.9168 - acc: 0.6720 - val_loss: 1.4521 - val_acc: 0.5197\n",
      "Epoch 33/100\n",
      "50000/50000 [==============================] - 9s 176us/step - loss: 0.8928 - acc: 0.6809 - val_loss: 1.4726 - val_acc: 0.5186\n",
      "Epoch 34/100\n",
      "50000/50000 [==============================] - 9s 180us/step - loss: 0.8803 - acc: 0.6873 - val_loss: 1.4700 - val_acc: 0.5310\n",
      "Epoch 35/100\n",
      "50000/50000 [==============================] - 9s 174us/step - loss: 0.8606 - acc: 0.6913 - val_loss: 1.4765 - val_acc: 0.5289\n",
      "Epoch 36/100\n",
      "50000/50000 [==============================] - 9s 182us/step - loss: 0.8358 - acc: 0.7016 - val_loss: 1.5225 - val_acc: 0.5216\n",
      "Epoch 37/100\n",
      "50000/50000 [==============================] - 9s 175us/step - loss: 0.8363 - acc: 0.6987 - val_loss: 1.4984 - val_acc: 0.5244\n",
      "Epoch 38/100\n",
      "50000/50000 [==============================] - 9s 184us/step - loss: 0.8096 - acc: 0.7092 - val_loss: 1.5398 - val_acc: 0.5210\n",
      "Epoch 39/100\n",
      "50000/50000 [==============================] - 9s 178us/step - loss: 0.7824 - acc: 0.7220 - val_loss: 1.5713 - val_acc: 0.5140\n",
      "Epoch 40/100\n",
      "50000/50000 [==============================] - 9s 181us/step - loss: 0.7736 - acc: 0.7244 - val_loss: 1.5910 - val_acc: 0.5202\n",
      "Epoch 41/100\n",
      "50000/50000 [==============================] - 9s 180us/step - loss: 0.7735 - acc: 0.7226 - val_loss: 1.5634 - val_acc: 0.5237\n",
      "Epoch 42/100\n",
      "50000/50000 [==============================] - 9s 177us/step - loss: 0.7447 - acc: 0.7342 - val_loss: 1.6010 - val_acc: 0.5236\n",
      "Epoch 43/100\n",
      "50000/50000 [==============================] - 9s 182us/step - loss: 0.7381 - acc: 0.7361 - val_loss: 1.6433 - val_acc: 0.5130\n",
      "Epoch 44/100\n",
      "50000/50000 [==============================] - 9s 180us/step - loss: 0.7169 - acc: 0.7439 - val_loss: 1.7110 - val_acc: 0.5138\n"
     ]
    },
    {
     "name": "stdout",
     "output_type": "stream",
     "text": [
      "Epoch 45/100\n",
      "50000/50000 [==============================] - 9s 180us/step - loss: 0.7002 - acc: 0.7511 - val_loss: 1.6488 - val_acc: 0.5213\n",
      "Epoch 46/100\n",
      "50000/50000 [==============================] - 9s 174us/step - loss: 0.6915 - acc: 0.7528 - val_loss: 1.6991 - val_acc: 0.5155\n",
      "Epoch 47/100\n",
      "50000/50000 [==============================] - 9s 177us/step - loss: 0.6873 - acc: 0.7532 - val_loss: 1.7053 - val_acc: 0.5249\n",
      "Epoch 48/100\n",
      "50000/50000 [==============================] - 9s 175us/step - loss: 0.6645 - acc: 0.7618 - val_loss: 1.8230 - val_acc: 0.5027\n",
      "Epoch 49/100\n",
      "50000/50000 [==============================] - 9s 176us/step - loss: 0.6568 - acc: 0.7644 - val_loss: 1.7188 - val_acc: 0.5217\n",
      "Epoch 50/100\n",
      "50000/50000 [==============================] - 9s 180us/step - loss: 0.6378 - acc: 0.7727 - val_loss: 1.8029 - val_acc: 0.5103\n",
      "Epoch 51/100\n",
      "50000/50000 [==============================] - 9s 173us/step - loss: 0.6236 - acc: 0.7757 - val_loss: 1.7931 - val_acc: 0.5093\n",
      "Epoch 52/100\n",
      "50000/50000 [==============================] - 9s 178us/step - loss: 0.6229 - acc: 0.7768 - val_loss: 1.8497 - val_acc: 0.5118\n",
      "Epoch 53/100\n",
      "50000/50000 [==============================] - 9s 173us/step - loss: 0.6108 - acc: 0.7816 - val_loss: 1.8336 - val_acc: 0.5142\n",
      "Epoch 54/100\n",
      "50000/50000 [==============================] - 9s 176us/step - loss: 0.5838 - acc: 0.7927 - val_loss: 1.8553 - val_acc: 0.5134\n",
      "Epoch 55/100\n",
      "50000/50000 [==============================] - 9s 172us/step - loss: 0.5717 - acc: 0.7955 - val_loss: 1.8782 - val_acc: 0.5027\n",
      "Epoch 56/100\n",
      "50000/50000 [==============================] - 9s 176us/step - loss: 0.5678 - acc: 0.7965 - val_loss: 2.0008 - val_acc: 0.5068\n",
      "Epoch 57/100\n",
      "50000/50000 [==============================] - 9s 174us/step - loss: 0.5629 - acc: 0.8007 - val_loss: 1.9677 - val_acc: 0.5095\n",
      "Epoch 58/100\n",
      "50000/50000 [==============================] - 9s 178us/step - loss: 0.5391 - acc: 0.8072 - val_loss: 2.0023 - val_acc: 0.5097\n",
      "Epoch 59/100\n",
      "50000/50000 [==============================] - 9s 178us/step - loss: 0.5313 - acc: 0.8106 - val_loss: 2.0408 - val_acc: 0.5085\n",
      "Epoch 60/100\n",
      "50000/50000 [==============================] - 9s 173us/step - loss: 0.5338 - acc: 0.8084 - val_loss: 2.0268 - val_acc: 0.5102\n",
      "Epoch 61/100\n",
      "50000/50000 [==============================] - 9s 179us/step - loss: 0.5258 - acc: 0.8118 - val_loss: 2.0604 - val_acc: 0.5076\n",
      "Epoch 62/100\n",
      "50000/50000 [==============================] - 9s 173us/step - loss: 0.5094 - acc: 0.8166 - val_loss: 2.1045 - val_acc: 0.5096\n",
      "Epoch 63/100\n",
      "50000/50000 [==============================] - 9s 177us/step - loss: 0.4963 - acc: 0.8233 - val_loss: 2.1157 - val_acc: 0.5018\n",
      "Epoch 64/100\n",
      "50000/50000 [==============================] - 9s 174us/step - loss: 0.4770 - acc: 0.8285 - val_loss: 2.1662 - val_acc: 0.5006\n",
      "Epoch 65/100\n",
      "50000/50000 [==============================] - 9s 179us/step - loss: 0.4890 - acc: 0.8242 - val_loss: 2.1256 - val_acc: 0.5105\n",
      "Epoch 66/100\n",
      "50000/50000 [==============================] - 9s 174us/step - loss: 0.4929 - acc: 0.8228 - val_loss: 2.1920 - val_acc: 0.5075\n",
      "Epoch 67/100\n",
      "50000/50000 [==============================] - 9s 177us/step - loss: 0.4680 - acc: 0.8324 - val_loss: 2.2395 - val_acc: 0.5035\n",
      "Epoch 68/100\n",
      "50000/50000 [==============================] - 10s 193us/step - loss: 0.4442 - acc: 0.8429 - val_loss: 2.2444 - val_acc: 0.5086\n",
      "Epoch 69/100\n",
      "50000/50000 [==============================] - 10s 193us/step - loss: 0.4435 - acc: 0.8402 - val_loss: 2.2899 - val_acc: 0.5058\n",
      "Epoch 70/100\n",
      "50000/50000 [==============================] - 9s 188us/step - loss: 0.4392 - acc: 0.8416 - val_loss: 2.2476 - val_acc: 0.5040\n",
      "Epoch 71/100\n",
      "50000/50000 [==============================] - 9s 175us/step - loss: 0.4431 - acc: 0.8397 - val_loss: 2.3909 - val_acc: 0.5003\n",
      "Epoch 72/100\n",
      "50000/50000 [==============================] - 9s 178us/step - loss: 0.4355 - acc: 0.8433 - val_loss: 2.3456 - val_acc: 0.5132\n",
      "Epoch 73/100\n",
      "50000/50000 [==============================] - 9s 174us/step - loss: 0.4152 - acc: 0.8514 - val_loss: 2.3259 - val_acc: 0.5038\n",
      "Epoch 74/100\n",
      "50000/50000 [==============================] - 9s 179us/step - loss: 0.4077 - acc: 0.8535 - val_loss: 2.4022 - val_acc: 0.5081\n",
      "Epoch 75/100\n",
      "50000/50000 [==============================] - 9s 175us/step - loss: 0.3968 - acc: 0.8584 - val_loss: 2.4081 - val_acc: 0.5007\n",
      "Epoch 76/100\n",
      "50000/50000 [==============================] - 9s 179us/step - loss: 0.3919 - acc: 0.8594 - val_loss: 2.5096 - val_acc: 0.5052\n",
      "Epoch 77/100\n",
      "50000/50000 [==============================] - 9s 180us/step - loss: 0.3829 - acc: 0.8622 - val_loss: 2.5134 - val_acc: 0.5038\n",
      "Epoch 78/100\n",
      "50000/50000 [==============================] - 9s 178us/step - loss: 0.3886 - acc: 0.8581 - val_loss: 2.5024 - val_acc: 0.5037\n",
      "Epoch 79/100\n",
      "50000/50000 [==============================] - 9s 179us/step - loss: 0.3979 - acc: 0.8583 - val_loss: 2.4960 - val_acc: 0.5002\n",
      "Epoch 80/100\n",
      "50000/50000 [==============================] - 9s 175us/step - loss: 0.3701 - acc: 0.8688 - val_loss: 2.6065 - val_acc: 0.5058\n",
      "Epoch 81/100\n",
      "50000/50000 [==============================] - 9s 181us/step - loss: 0.3571 - acc: 0.8720 - val_loss: 2.5860 - val_acc: 0.5032\n",
      "Epoch 82/100\n",
      "50000/50000 [==============================] - 9s 181us/step - loss: 0.3671 - acc: 0.8689 - val_loss: 2.7330 - val_acc: 0.5036\n",
      "Epoch 83/100\n",
      "50000/50000 [==============================] - 10s 197us/step - loss: 0.3714 - acc: 0.8665 - val_loss: 2.5838 - val_acc: 0.5070\n",
      "Epoch 84/100\n",
      "50000/50000 [==============================] - 11s 210us/step - loss: 0.3409 - acc: 0.8769 - val_loss: 2.8003 - val_acc: 0.4988\n",
      "Epoch 85/100\n",
      "50000/50000 [==============================] - 11s 222us/step - loss: 0.3468 - acc: 0.8764 - val_loss: 2.7113 - val_acc: 0.4987\n",
      "Epoch 86/100\n",
      "50000/50000 [==============================] - 10s 209us/step - loss: 0.3496 - acc: 0.8749 - val_loss: 2.7559 - val_acc: 0.4966\n",
      "Epoch 87/100\n",
      "50000/50000 [==============================] - 9s 181us/step - loss: 0.3498 - acc: 0.8747 - val_loss: 2.7127 - val_acc: 0.5028\n",
      "Epoch 88/100\n",
      "50000/50000 [==============================] - 9s 184us/step - loss: 0.3290 - acc: 0.8824 - val_loss: 2.8629 - val_acc: 0.4984\n",
      "Epoch 89/100\n",
      "50000/50000 [==============================] - 9s 189us/step - loss: 0.3273 - acc: 0.8826 - val_loss: 2.7433 - val_acc: 0.5062\n",
      "Epoch 90/100\n",
      "50000/50000 [==============================] - 9s 173us/step - loss: 0.3520 - acc: 0.8721 - val_loss: 2.8554 - val_acc: 0.5008\n",
      "Epoch 91/100\n",
      "50000/50000 [==============================] - 9s 181us/step - loss: 0.3236 - acc: 0.8841 - val_loss: 2.8361 - val_acc: 0.5077\n",
      "Epoch 92/100\n",
      "50000/50000 [==============================] - 9s 180us/step - loss: 0.3028 - acc: 0.8906 - val_loss: 2.9071 - val_acc: 0.4968\n",
      "Epoch 93/100\n",
      "50000/50000 [==============================] - 9s 184us/step - loss: 0.3161 - acc: 0.8873 - val_loss: 2.8407 - val_acc: 0.4956\n",
      "Epoch 94/100\n",
      "50000/50000 [==============================] - 9s 172us/step - loss: 0.2957 - acc: 0.8940 - val_loss: 2.8863 - val_acc: 0.4981\n",
      "Epoch 95/100\n",
      "50000/50000 [==============================] - 9s 170us/step - loss: 0.2639 - acc: 0.9073 - val_loss: 2.8751 - val_acc: 0.5039\n",
      "Epoch 96/100\n",
      "50000/50000 [==============================] - 9s 184us/step - loss: 0.3285 - acc: 0.8818 - val_loss: 3.0164 - val_acc: 0.4969\n",
      "Epoch 97/100\n",
      "50000/50000 [==============================] - 9s 177us/step - loss: 0.3066 - acc: 0.8892 - val_loss: 2.9733 - val_acc: 0.5000\n",
      "Epoch 98/100\n",
      "50000/50000 [==============================] - 9s 177us/step - loss: 0.3015 - acc: 0.8918 - val_loss: 3.0104 - val_acc: 0.5004\n",
      "Epoch 99/100\n",
      "50000/50000 [==============================] - 9s 172us/step - loss: 0.3031 - acc: 0.8916 - val_loss: 3.0458 - val_acc: 0.4982\n",
      "Epoch 100/100\n",
      "50000/50000 [==============================] - 9s 180us/step - loss: 0.2887 - acc: 0.8953 - val_loss: 3.1435 - val_acc: 0.4973\n"
     ]
    },
    {
     "data": {
      "text/plain": [
       "<keras.callbacks.History at 0x19e8031ba08>"
      ]
     },
     "execution_count": 9,
     "metadata": {},
     "output_type": "execute_result"
    }
   ],
   "source": [
    "model.fit(x_train, y_train, \n",
    "          epochs=EPOCHS, \n",
    "          batch_size=BATCH_SIZE, \n",
    "          validation_data=(x_test, y_test), \n",
    "          shuffle=True)"
   ]
  },
  {
   "cell_type": "code",
   "execution_count": 10,
   "metadata": {},
   "outputs": [
    {
     "data": {
      "image/png": "[encoded data removed]",
      "text/plain": [
       "<Figure size 432x288 with 1 Axes>"
      ]
     },
     "metadata": {
      "needs_background": "light"
     },
     "output_type": "display_data"
    },
    {
     "data": {
      "image/png": "[encoded data removed]",
      "text/plain": [
       "<Figure size 432x288 with 1 Axes>"
      ]
     },
     "metadata": {
      "needs_background": "light"
     },
     "output_type": "display_data"
    }
   ],
   "source": [
    "import matplotlib.pyplot as plt\n",
    "\n",
    "\n",
    "train_loss = model.history.history[\"loss\"]\n",
    "valid_loss = model.history.history[\"val_loss\"]\n",
    "\n",
    "train_acc = model.history.history[\"acc\"]\n",
    "valid_acc = model.history.history[\"val_acc\"]\n",
    "\n",
    "plt.plot(range(len(train_loss)), train_loss, label=\"train loss\")\n",
    "plt.plot(range(len(valid_loss)), valid_loss, label=\"valid loss\")\n",
    "plt.legend()\n",
    "plt.title(\"Loss\")\n",
    "plt.show()\n",
    "\n",
    "plt.plot(range(len(train_acc)), train_acc, label=\"train accuracy\")\n",
    "plt.plot(range(len(valid_acc)), valid_acc, label=\"valid accuracy\")\n",
    "plt.legend()\n",
    "plt.title(\"Accuracy\")\n",
    "plt.show()"
   ]
  }
 ],
 "metadata": {
  "kernelspec": {
   "display_name": "Python 3",
   "language": "python",
   "name": "python3"
  },
  "language_info": {
   "codemirror_mode": {
    "name": "ipython",
    "version": 3
   },
   "file_extension": ".py",
   "mimetype": "text/x-python",
   "name": "python",
   "nbconvert_exporter": "python",
   "pygments_lexer": "ipython3",
   "version": "3.7.5"
  }
 },
 "nbformat": 4,
 "nbformat_minor": 2
}
