{
 "cells": [
  {
   "cell_type": "markdown",
   "metadata": {},
   "source": [
    "## 練習時間"
   ]
  },
  {
   "cell_type": "markdown",
   "metadata": {},
   "source": [
    "請觀看李宏毅教授以神奇寶貝進化 CP 值預測的範例，解說何謂機器學習與過擬合。並回答以下問題"
   ]
  },
  {
   "cell_type": "markdown",
   "metadata": {},
   "source": [
    "[youtube](https://www.youtube.com/watch?v=fegAeph9UaA)"
   ]
  },
  {
   "cell_type": "markdown",
   "metadata": {},
   "source": [
    "### 1. 模型的泛化能力 (generalization) 是指什麼？ \n",
    "* https://developers.google.com/machine-learning/crash-course/generalization/video-lecture?hl=zh-cn\n",
    "\n",
    "Ans:泛化是指模型很好地擬合以前未見過的新資料（從用於創建該模型的同一分佈中抽取）的能力。\n",
    "### 2. 分類問題與回歸問題分別可用的目標函數有哪些？\n",
    "* https://www.twblogs.net/a/5c188f10bd9eee5e41847a50\n",
    "\n",
    "Ans:Regression(迴歸): MAE(平均絕對誤差), MSE(均方誤差), Huber損失\n",
    "    Classification(分類): 0-1損失函數, 交叉熵損失函數（Logistic迴歸）, 交叉熵損失函數（Softmax激活）"
   ]
  }
 ],
 "metadata": {
  "kernelspec": {
   "display_name": "Python 3",
   "language": "python",
   "name": "python3"
  },
  "language_info": {
   "codemirror_mode": {
    "name": "ipython",
    "version": 3
   },
   "file_extension": ".py",
   "mimetype": "text/x-python",
   "name": "python",
   "nbconvert_exporter": "python",
   "pygments_lexer": "ipython3",
   "version": "3.7.3"
  }
 },
 "nbformat": 4,
 "nbformat_minor": 2
}
